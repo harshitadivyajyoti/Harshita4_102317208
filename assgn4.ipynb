{
 "cells": [
  {
   "cell_type": "markdown",
   "id": "e8b7c1d3-a614-4409-bf58-72263c2e8d9b",
   "metadata": {},
   "source": [
    "# Assignment4"
   ]
  },
  {
   "cell_type": "markdown",
   "id": "8ae5d19f-bdcb-474a-91c7-07937fe81161",
   "metadata": {},
   "source": [
    "##### Harshita Divyajyoti\n",
    "##### 102317208"
   ]
  },
  {
   "cell_type": "markdown",
   "id": "66f223e1-a5fd-4f9d-871e-3922825c18a8",
   "metadata": {},
   "source": [
    "#####  Write a program to create a NumPy 1D-array with 5 elements and perform basic operations like: a) Addition of 2 in all the element  b) Multiply 3 with all the elements c) Divide every element by 2 "
   ]
  },
  {
   "cell_type": "code",
   "execution_count": 6,
   "id": "7315ef66-1362-401c-b19e-e8d4ab07b990",
   "metadata": {},
   "outputs": [
    {
     "name": "stdout",
     "output_type": "stream",
     "text": [
      "[3 4 5 6 7]\n",
      "[ 3  6  9 12 15]\n",
      "[0.5 1.  1.5 2.  2.5]\n"
     ]
    }
   ],
   "source": [
    "import numpy as np\n",
    "arr=np.array([1,2,3,4,5])\n",
    "print(arr+2)\n",
    "print(arr*3)\n",
    "print(arr/2)"
   ]
  },
  {
   "cell_type": "markdown",
   "id": "92f3a1f6-87b2-483c-b4f0-4a27fc918e2d",
   "metadata": {},
   "source": [
    "#####  Questions on Basic NumPy Array: a) Reverse the NumPy array: arr = np.array([1, 2, 3, 6, 4, 5]) b) Find the most frequent value and their indice(s) in the following arrays: i. x = np.array([1,2,3,4,5,1,2,1,1,1]) ii. y = np.array([1, 1, 1, 2, 3, 4, 2, 4, 3, 3, ])"
   ]
  },
  {
   "cell_type": "code",
   "execution_count": 9,
   "id": "7d87bd9e-edfe-44c4-94f9-f91dfc077b50",
   "metadata": {},
   "outputs": [
    {
     "name": "stdout",
     "output_type": "stream",
     "text": [
      "[5 4 6 3 2 1]\n"
     ]
    }
   ],
   "source": [
    "arr2 = np.array([1, 2, 3, 6, 4, 5])\n",
    "print(arr2[::-1])"
   ]
  },
  {
   "cell_type": "code",
   "execution_count": 11,
   "id": "2c26a9c9-dd53-45a1-a92d-53076ba95e09",
   "metadata": {},
   "outputs": [
    {
     "name": "stdout",
     "output_type": "stream",
     "text": [
      "[1] (array([0, 5, 7, 8, 9], dtype=int64),)\n",
      "[1 3] (array([0, 1, 2, 4, 8, 9], dtype=int64),)\n"
     ]
    }
   ],
   "source": [
    "x=np.array([1,2,3,4,5,1,2,1,1,1])\n",
    "values, counts=np.unique(x, return_counts=True)\n",
    "max_count=np.max(counts)\n",
    "most_frequent=values[counts==max_count]\n",
    "indices=np.where(np.isin(x,most_frequent))\n",
    "print(most_frequent,indices)\n",
    "\n",
    "y=np.array([1,1,1,2,3,4,2,4,3,3])\n",
    "values, counts=np.unique(y, return_counts=True)\n",
    "max_count=np.max(counts)\n",
    "most_frequent=values[counts==max_count]\n",
    "indices=np.where(np.isin(y,most_frequent))\n",
    "print(most_frequent, indices)"
   ]
  },
  {
   "cell_type": "markdown",
   "id": "2389c426-b9d5-4390-b389-6659aba9b10e",
   "metadata": {},
   "source": [
    "##### For the given 2-D array arr=np.array([10, 20, 30], [40, 50, 60], [70, 80, 90]), access elements using row and column indices as follows: a) Access 1st row, 2nd column  b) Access 3rd row, 1st column"
   ]
  },
  {
   "cell_type": "code",
   "execution_count": 14,
   "id": "094a5650-5b4c-45ec-87a4-bc26bada3a02",
   "metadata": {},
   "outputs": [
    {
     "name": "stdout",
     "output_type": "stream",
     "text": [
      "20\n",
      "70\n"
     ]
    }
   ],
   "source": [
    "arr= np.array([[10, 20, 30], [40, 50, 60], [70, 80, 90]])\n",
    "print(arr[0,1])\n",
    "print(arr[2,0])\n"
   ]
  },
  {
   "cell_type": "markdown",
   "id": "2d473e48-387e-46a5-a2de-25fdafffd916",
   "metadata": {},
   "source": [
    "#####  Write program to create an 1-D NumPy array named <<Your Name>> with evenly spaced 25 numbers from 10 to 100 using linspace(). Print the dimensions of the array, shape, total elements, the data type of each element and total number of bytes consumed by the array. Find the transpose of this array using reshape() attribute. Can we do the same with T attribute?"
   ]
  },
  {
   "cell_type": "code",
   "execution_count": 19,
   "id": "b2b5915c-921e-4300-9d31-e07b78b55fa8",
   "metadata": {},
   "outputs": [
    {
     "name": "stdout",
     "output_type": "stream",
     "text": [
      "(25,) 25 float64 200\n",
      "(25, 1)\n",
      "(1, 25)\n"
     ]
    }
   ],
   "source": [
    "a=np.linspace(10,100,25)\n",
    "print(a.shape,a.size,a.dtype,a.nbytes)\n",
    "a=a.reshape(25,1)\n",
    "print(a.shape)\n",
    "print(a.T.shape)"
   ]
  },
  {
   "cell_type": "markdown",
   "id": "d1b5827b-6dd7-4bea-b01d-c14b0dbc79f5",
   "metadata": {},
   "source": [
    "#####  Create a 2-D Array of three rows and four columns, named ucs420_<your_name>> with following values – 10, 20, 30, 40, 50, 60, 70, 80, 90, 15, 20, 35. Compute the mean, median, max, min, unique elements. Reshape the array to four rows and three columns and name it as reshaped_ucs420_<your_name>>. Resize the array to two rows and three columns and name it as resized_ ucs420_<your_name>>."
   ]
  },
  {
   "cell_type": "code",
   "execution_count": 22,
   "id": "24de466b-bc3f-40e5-b54f-7ab29e89a085",
   "metadata": {},
   "outputs": [
    {
     "name": "stdout",
     "output_type": "stream",
     "text": [
      "43.333333333333336 37.5 90 10 [10 15 20 30 35 40 50 60 70 80 90]\n",
      "[[10 20 30]\n",
      " [40 50 60]\n",
      " [70 80 90]\n",
      " [15 20 35]]\n",
      "[[10 20 30]\n",
      " [40 50 60]]\n"
     ]
    }
   ],
   "source": [
    "ucs420_name = np.array([[10, 20, 30, 40], [50, 60, 70, 80], [90, 15, 20, 35]])\n",
    "print(np.mean(ucs420_name), np.median(ucs420_name), np.max(ucs420_name), np.min(ucs420_name), np.unique(ucs420_name))\n",
    "reshaped_ucs420_name = ucs420_name.reshape(4, 3)\n",
    "print(reshaped_ucs420_name)\n",
    "resized_ucs420_name = np.resize(ucs420_name, (2, 3))\n",
    "print(resized_ucs420_name)"
   ]
  }
 ],
 "metadata": {
  "kernelspec": {
   "display_name": "Python [conda env:base] *",
   "language": "python",
   "name": "conda-base-py"
  },
  "language_info": {
   "codemirror_mode": {
    "name": "ipython",
    "version": 3
   },
   "file_extension": ".py",
   "mimetype": "text/x-python",
   "name": "python",
   "nbconvert_exporter": "python",
   "pygments_lexer": "ipython3",
   "version": "3.12.7"
  }
 },
 "nbformat": 4,
 "nbformat_minor": 5
}
